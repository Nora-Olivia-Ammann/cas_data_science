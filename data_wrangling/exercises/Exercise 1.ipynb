{
 "cells": [
  {
   "cell_type": "markdown",
   "metadata": {},
   "source": [
    "## Task 1\n",
    "We will convert a simple excel file to various other formats and back and then look at the results after each step. You can use the pd.read_\\[File_format\\] and \\[dataframe\\].to_\\[File_format\\] methods of pandas to read and write in different data formats."
   ]
  },
  {
   "cell_type": "code",
   "execution_count": 1,
   "metadata": {},
   "outputs": [],
   "source": [
    "import numpy as np\n",
    "import pandas as pd\n",
    "import xml.etree.ElementTree as ET"
   ]
  },
  {
   "cell_type": "code",
   "execution_count": 3,
   "metadata": {},
   "outputs": [],
   "source": [
    "# should you have problems with the necessary python packages, remember to install everything from the requirements.txt file\n",
    "# you can do this from the notebook with the following command (remove the #, then run this cell)\n",
    "# !pip install -r ./requirements.txt"
   ]
  },
  {
   "cell_type": "markdown",
   "metadata": {},
   "source": [
    "Load the file melbourne_de.xlsx into a dataframe called df. Then show the first 5 lines with df.head()"
   ]
  },
  {
   "cell_type": "code",
   "execution_count": null,
   "metadata": {},
   "outputs": [],
   "source": []
  },
  {
   "cell_type": "markdown",
   "metadata": {},
   "source": [
    "Save the dataframe as a csv with the name df1.csv. What encoding has been used with the default values?"
   ]
  },
  {
   "cell_type": "code",
   "execution_count": null,
   "metadata": {},
   "outputs": [],
   "source": []
  },
  {
   "cell_type": "markdown",
   "metadata": {},
   "source": [
    "Now read the file df1.csv and show the first 5 lines. Has something changed? What happens if you use the additional parameter index_col when reading the file?"
   ]
  },
  {
   "cell_type": "code",
   "execution_count": null,
   "metadata": {},
   "outputs": [],
   "source": []
  },
  {
   "cell_type": "markdown",
   "metadata": {},
   "source": [
    "Save the dataframe as a json with the name df2.json. "
   ]
  },
  {
   "cell_type": "code",
   "execution_count": null,
   "metadata": {},
   "outputs": [],
   "source": []
  },
  {
   "cell_type": "code",
   "execution_count": null,
   "metadata": {},
   "outputs": [],
   "source": []
  },
  {
   "cell_type": "markdown",
   "metadata": {},
   "source": [
    "Now read the file df2.json as a pandas dataframe and check again if something changed."
   ]
  },
  {
   "cell_type": "code",
   "execution_count": null,
   "metadata": {},
   "outputs": [],
   "source": []
  },
  {
   "cell_type": "markdown",
   "metadata": {},
   "source": [
    "Now save the file as excel file with the name df3.xlsx. Open it with excel, google sheets or any other tool you might have and look at how it is formatted."
   ]
  },
  {
   "cell_type": "code",
   "execution_count": null,
   "metadata": {},
   "outputs": [],
   "source": []
  },
  {
   "cell_type": "markdown",
   "metadata": {},
   "source": [
    "In whatever tool you used to open the excel file, save the file again as a tab separated file named df4.txt (in Excel: \"Text (Tab delimited) (*.txt)\")"
   ]
  },
  {
   "cell_type": "code",
   "execution_count": null,
   "metadata": {},
   "outputs": [],
   "source": []
  },
  {
   "cell_type": "markdown",
   "metadata": {},
   "source": [
    "Finally load the df4.txt file into a pandas dataframe and look at the first 5 lines. Did you manage to keep all special characters?"
   ]
  },
  {
   "cell_type": "code",
   "execution_count": null,
   "metadata": {},
   "outputs": [],
   "source": []
  },
  {
   "cell_type": "markdown",
   "metadata": {},
   "source": [
    "Bonus: reading from XML is often a bit more difficult. Since a few versions ago, pandas can read many simple xml files as well, but more complex ones are still out of reach. The following code gives an example to load data from an xml file without pandas."
   ]
  },
  {
   "cell_type": "code",
   "execution_count": null,
   "metadata": {},
   "outputs": [],
   "source": [
    "df.to_xml('df5.xml')"
   ]
  },
  {
   "cell_type": "code",
   "execution_count": null,
   "metadata": {},
   "outputs": [],
   "source": [
    "tree = ET.parse('df5.xml')\n",
    "root = tree.getroot()\n",
    "root"
   ]
  },
  {
   "cell_type": "code",
   "execution_count": null,
   "metadata": {},
   "outputs": [],
   "source": [
    "all_data = []\n",
    "for row in root:\n",
    "    record = {}\n",
    "    for field in row:\n",
    "        rec_key = field.tag\n",
    "        record[rec_key] = field.text\n",
    "    all_data.append(record)\n",
    "xml_df = pd.DataFrame(all_data)\n",
    "xml_df.head()"
   ]
  },
  {
   "cell_type": "code",
   "execution_count": null,
   "metadata": {},
   "outputs": [],
   "source": []
  },
  {
   "cell_type": "markdown",
   "metadata": {},
   "source": [
    "## Task 2"
   ]
  },
  {
   "cell_type": "markdown",
   "metadata": {},
   "source": [
    "The file building3d.dae contains a 3d file which can be opened with photoshop and other tools. Source: https://www.swisstopo.admin.ch/de/karten-daten-online/karten-geodaten-online/3d-viewer.html Your task is to read the file with python and calculate the height of the building. Open it with a text editor first to find out where the relevant information is located. The actual programming part of this exercise is optional, the important part is figuring out how to approach the problem at hand.\n",
    "\n",
    "Hint1: It helps to know that the building is around 540m above sea.\n",
    "\n",
    "Hint2: You can use root.iter(x) to directly access all elements with name x. Be aware that in the case of this file, x might contain also the name of the schema which is '{http://www.collada.org/2005/11/COLLADASchema}'."
   ]
  },
  {
   "cell_type": "code",
   "execution_count": null,
   "metadata": {},
   "outputs": [],
   "source": []
  }
 ],
 "metadata": {
  "kernelspec": {
   "display_name": "Python [conda env:base] *",
   "language": "python",
   "name": "conda-base-py"
  },
  "language_info": {
   "codemirror_mode": {
    "name": "ipython",
    "version": 3
   },
   "file_extension": ".py",
   "mimetype": "text/x-python",
   "name": "python",
   "nbconvert_exporter": "python",
   "pygments_lexer": "ipython3",
   "version": "3.12.7"
  }
 },
 "nbformat": 4,
 "nbformat_minor": 4
}
